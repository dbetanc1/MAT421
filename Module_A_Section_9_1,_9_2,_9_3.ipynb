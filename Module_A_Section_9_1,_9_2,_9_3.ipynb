{
  "nbformat": 4,
  "nbformat_minor": 0,
  "metadata": {
    "colab": {
      "name": "Module A: Section 9.1, 9.2, 9.3.ipynb",
      "provenance": [],
      "authorship_tag": "ABX9TyOzD5tJK+3A7usKtSk9hrqm",
      "include_colab_link": true
    },
    "kernelspec": {
      "name": "python3",
      "display_name": "Python 3"
    },
    "language_info": {
      "name": "python"
    }
  },
  "cells": [
    {
      "cell_type": "markdown",
      "metadata": {
        "id": "view-in-github",
        "colab_type": "text"
      },
      "source": [
        "<a href=\"https://colab.research.google.com/github/dbetanc1/MAT421/blob/main/Module_A_Section_9_1%2C_9_2%2C_9_3.ipynb\" target=\"_parent\"><img src=\"https://colab.research.google.com/assets/colab-badge.svg\" alt=\"Open In Colab\"/></a>"
      ]
    },
    {
      "cell_type": "markdown",
      "source": [
        "Chapter 9. Representation of Numbers"
      ],
      "metadata": {
        "id": "BMd1L7pHtPfW"
      }
    },
    {
      "cell_type": "markdown",
      "source": [
        "Section 9.1 Base-N and Binary"
      ],
      "metadata": {
        "id": "ZD89CatPqfX8"
      }
    },
    {
      "cell_type": "markdown",
      "source": [
        "In the decimal system, a number is represented by a list of digits from 0 to 9, where each digit represents the coefficient for a power of 10."
      ],
      "metadata": {
        "id": "agGlxJMVyD8U"
      }
    },
    {
      "cell_type": "code",
      "source": [
        "#Example 1\n",
        "ex1 = 1*10**2 + 4*10**1 + 7*10**0 + 3*10**-1\n",
        "\n",
        "print(ex1)"
      ],
      "metadata": {
        "colab": {
          "base_uri": "https://localhost:8080/"
        },
        "id": "PxuwkqDDWFjP",
        "outputId": "a8f9ab70-0078-4e6a-9340-e6dd10c8fafc"
      },
      "execution_count": null,
      "outputs": [
        {
          "output_type": "stream",
          "name": "stdout",
          "text": [
            "147.3\n"
          ]
        }
      ]
    },
    {
      "cell_type": "code",
      "source": [
        ""
      ],
      "metadata": {
        "id": "YAx1YsVcWxdV"
      },
      "execution_count": null,
      "outputs": []
    },
    {
      "cell_type": "markdown",
      "source": [
        "Section 9.2 Floating Point Numbers"
      ],
      "metadata": {
        "id": "SB-jga4hqkBT"
      }
    },
    {
      "cell_type": "markdown",
      "source": [
        "Section 9.3 Round-off Errors"
      ],
      "metadata": {
        "id": "rOCzNmkgqrLw"
      }
    },
    {
      "cell_type": "code",
      "source": [
        "# Round-off error by floating-point arithmetic\n",
        "4.9 - 4.845 == 0.055"
      ],
      "metadata": {
        "colab": {
          "base_uri": "https://localhost:8080/"
        },
        "id": "cqLiIs_KqzmX",
        "outputId": "c3c9ee77-d38e-4ed0-f030-a11baaa2f57a"
      },
      "execution_count": null,
      "outputs": [
        {
          "output_type": "execute_result",
          "data": {
            "text/plain": [
              "False"
            ]
          },
          "metadata": {},
          "execution_count": 3
        }
      ]
    },
    {
      "cell_type": "code",
      "source": [
        "# This is because the floating point can not be represented by the exact number, it is just approximation, and when it is used in arithmetic, it is causing a small error.\n",
        "4.9 - 4.845"
      ],
      "metadata": {
        "colab": {
          "base_uri": "https://localhost:8080/"
        },
        "id": "CsaTWJaSq-bL",
        "outputId": "9997f2ae-b7a6-4e61-c342-84268c9c5527"
      },
      "execution_count": null,
      "outputs": [
        {
          "output_type": "execute_result",
          "data": {
            "text/plain": [
              "0.055000000000000604"
            ]
          },
          "metadata": {},
          "execution_count": 2
        }
      ]
    }
  ]
}